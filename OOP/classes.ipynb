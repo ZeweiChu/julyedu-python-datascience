{
 "cells": [
  {
   "cell_type": "code",
   "execution_count": 29,
   "metadata": {
    "collapsed": true
   },
   "outputs": [],
   "source": [
    "from abc import ABC, abstractmethod\n",
    "\n",
    "# parent class, base class\n",
    "class Person(ABC):  \n",
    "    @abstractmethod\n",
    "    def __init__(self, name, ID):\n",
    "        self.name = name\n",
    "        self.ID = ID \n",
    "        \n",
    "    @abstractmethod\n",
    "    def get_info(self):\n",
    "        return \"name: {}\".format(self.name)"
   ]
  },
  {
   "cell_type": "code",
   "execution_count": 30,
   "metadata": {},
   "outputs": [
    {
     "ename": "TypeError",
     "evalue": "Can't instantiate abstract class Person with abstract methods __init__, get_info",
     "output_type": "error",
     "traceback": [
      "\u001b[0;31m---------------------------------------------------------------------------\u001b[0m",
      "\u001b[0;31mTypeError\u001b[0m                                 Traceback (most recent call last)",
      "\u001b[0;32m<ipython-input-30-06862e5466d4>\u001b[0m in \u001b[0;36m<module>\u001b[0;34m()\u001b[0m\n\u001b[0;32m----> 1\u001b[0;31m \u001b[0mjiahao\u001b[0m \u001b[0;34m=\u001b[0m \u001b[0mPerson\u001b[0m\u001b[0;34m(\u001b[0m\u001b[0;34m\"jiahao\"\u001b[0m\u001b[0;34m,\u001b[0m \u001b[0;36m20\u001b[0m\u001b[0;34m)\u001b[0m\u001b[0;34m\u001b[0m\u001b[0m\n\u001b[0m\u001b[1;32m      2\u001b[0m \u001b[0mprint\u001b[0m\u001b[0;34m(\u001b[0m\u001b[0mjiahao\u001b[0m\u001b[0;34m.\u001b[0m\u001b[0mget_info\u001b[0m\u001b[0;34m(\u001b[0m\u001b[0;34m)\u001b[0m\u001b[0;34m)\u001b[0m\u001b[0;34m\u001b[0m\u001b[0m\n",
      "\u001b[0;31mTypeError\u001b[0m: Can't instantiate abstract class Person with abstract methods __init__, get_info"
     ]
    }
   ],
   "source": [
    "jiahao = Person(\"jiahao\", 20)\n",
    "print(jiahao.get_info())"
   ]
  },
  {
   "cell_type": "code",
   "execution_count": 33,
   "metadata": {
    "collapsed": true
   },
   "outputs": [],
   "source": [
    "'''\n",
    "Student sub class\n",
    "'''\n",
    "class Student(Person):\n",
    "    # method\n",
    "    def __init__(self, name, ID, level=0):\n",
    "        # field\n",
    "        # self refers to the object that is being created\n",
    "        super().__init__(name, ID)\n",
    "        self.level = level\n",
    "\n",
    "    def get_info(self):\n",
    "        return \"{}, level: {}\".format(super().get_info(), self.level)\n",
    "\n",
    "    def take_exam(self, grade):\n",
    "        if grade.upper() in [\"A\", \"B\", \"C\"]:\n",
    "            self.level += 1\n",
    "        return self.level\n",
    "\n",
    "    def graduate(self):\n",
    "        print(self.get_info())\n",
    "        if self.level >= 12:\n",
    "            print(\"Congratulations, you've graduated from Julyedu\")\n",
    "            return True\n",
    "        else:\n",
    "            print(\"Sorry, you need to pass {} extra exams\".format(12-self.level))\n",
    "            return False\n"
   ]
  },
  {
   "cell_type": "code",
   "execution_count": 34,
   "metadata": {},
   "outputs": [
    {
     "name": "stdout",
     "output_type": "stream",
     "text": [
      "name: July, level: 18\n",
      "name: Zewei, level: 0\n",
      "name: Zewei, level: 3\n",
      "name: Zewei, level: 3\n",
      "Sorry, you need to pass 9 extra exams\n",
      "name: Zewei, level: 15\n",
      "name: Zewei, level: 15\n",
      "Congratulations, you've graduated from Julyedu\n"
     ]
    },
    {
     "data": {
      "text/plain": [
       "True"
      ]
     },
     "execution_count": 34,
     "metadata": {},
     "output_type": "execute_result"
    }
   ],
   "source": [
    "# instantiate an object\n",
    "july = Student(\"July\", 1, 15)\n",
    "july.take_exam(\"A\")\n",
    "july.take_exam(\"B\")\n",
    "july.take_exam(\"C\")\n",
    "july.take_exam(\"D\")\n",
    "july.take_exam(\"F\")\n",
    "print(july.get_info()) # 18\n",
    "\n",
    "zewei = Student(\"Zewei\", 1)\n",
    "print(zewei.get_info())\n",
    "zewei.take_exam(\"A\")\n",
    "zewei.take_exam(\"B\")\n",
    "zewei.take_exam(\"C\")\n",
    "print(zewei.get_info())\n",
    "zewei.graduate()\n",
    "zewei.take_exam(\"A\")\n",
    "zewei.take_exam(\"B\")\n",
    "zewei.take_exam(\"C\")\n",
    "zewei.take_exam(\"A\")\n",
    "zewei.take_exam(\"B\")\n",
    "zewei.take_exam(\"C\")\n",
    "zewei.take_exam(\"A\")\n",
    "zewei.take_exam(\"B\")\n",
    "zewei.take_exam(\"C\")\n",
    "zewei.take_exam(\"A\")\n",
    "zewei.take_exam(\"B\")\n",
    "zewei.take_exam(\"C\")\n",
    "print(zewei.get_info())\n",
    "zewei.graduate()\n"
   ]
  },
  {
   "cell_type": "code",
   "execution_count": 35,
   "metadata": {},
   "outputs": [
    {
     "name": "stdout",
     "output_type": "stream",
     "text": [
      "(Employee name: July, title: CEO, salary: 99999999, manager: )\n",
      "(Employee name: Zewei, title: Lecturer, salary: 1, manager: (Employee name: July, title: CEO, salary: 99999999, manager: ))\n",
      "False\n"
     ]
    }
   ],
   "source": [
    "class Employee(Person):\n",
    "    def __init__(self, name, ID, title, salary, manager=None):\n",
    "        super().__init__(name, ID)\n",
    "        self.title = title\n",
    "        self.salary = salary\n",
    "        self.manager = manager\n",
    "\n",
    "    def get_info(self):\n",
    "        return \"(Employee {}, title: {}, salary: {}, manager: {})\".format(\\\n",
    "            super().get_info(), self.title, self.salary, self.manager.get_info() \\\n",
    "            if self.manager is not None else \"\")\n",
    "    \n",
    "    # define object equalities\n",
    "    def __eq__(self, other):\n",
    "        return self.ID == other.ID\n",
    "    \n",
    "july = Employee(\"July\", 1, \"CEO\", 99999999)\n",
    "print(july.get_info())\n",
    "zewei = Employee(\"Zewei\", 2, \"Lecturer\", 1, july)\n",
    "print(zewei.get_info())\n",
    "han = Employee(\"Han\", 3, \"Lecturer\", 99999, july)\n",
    "\n",
    "\n",
    "print(zewei == han)"
   ]
  },
  {
   "cell_type": "code",
   "execution_count": 28,
   "metadata": {},
   "outputs": [
    {
     "data": {
      "text/plain": [
       "__main__.Person"
      ]
     },
     "execution_count": 28,
     "metadata": {},
     "output_type": "execute_result"
    }
   ],
   "source": [
    "type(jiahao)"
   ]
  },
  {
   "cell_type": "code",
   "execution_count": 36,
   "metadata": {},
   "outputs": [
    {
     "name": "stdout",
     "output_type": "stream",
     "text": [
      "Company: JulyEDU, employees: (Employee name: July, title: CEO, salary: 99999999, manager: ), (Employee name: Zewei, title: Lecturer, salary: 1, manager: (Employee name: July, title: CEO, salary: 99999999, manager: )), \n"
     ]
    }
   ],
   "source": [
    "class Company(object):\n",
    "    '''\n",
    "        name: name of the company\n",
    "        employees: a list of employees working in the company\n",
    "    '''\n",
    "    def __init__(self, name, employees = []):\n",
    "        self.name = name\n",
    "        self.employees = employees\n",
    "        \n",
    "    def hire(self, employee):\n",
    "        if not employee in self.employees:\n",
    "            self.employees.append(employee)\n",
    "            \n",
    "    def fire(self, employee):\n",
    "        if employee in self.employees:\n",
    "            self.employees.remove(employee)\n",
    "            \n",
    "    def get_info(self):\n",
    "        res = \"Company: {}, employees: \".format(self.name)\n",
    "        for employee in self.employees:\n",
    "            res += \"{}, \".format(employee.get_info())\n",
    "        return res\n",
    "    \n",
    "c = Company(\"JulyEDU\", [july])\n",
    "c.hire(zewei)\n",
    "print(c.get_info())\n",
    "\n",
    "        \n",
    "    "
   ]
  },
  {
   "cell_type": "code",
   "execution_count": 37,
   "metadata": {},
   "outputs": [
    {
     "name": "stdout",
     "output_type": "stream",
     "text": [
      "Company: JulyEDU, employees: (Employee name: July, title: CEO, salary: 99999999, manager: ), (Employee name: Zewei, title: Lecturer, salary: 1, manager: (Employee name: July, title: CEO, salary: 99999999, manager: )), (Employee name: Han, title: Lecturer, salary: 99999, manager: (Employee name: July, title: CEO, salary: 99999999, manager: )), \n"
     ]
    }
   ],
   "source": [
    "c.hire(han)\n",
    "print(c.get_info())"
   ]
  },
  {
   "cell_type": "code",
   "execution_count": 38,
   "metadata": {},
   "outputs": [
    {
     "name": "stdout",
     "output_type": "stream",
     "text": [
      "Company: JulyEDU, employees: (Employee name: July, title: CEO, salary: 99999999, manager: ), (Employee name: Zewei, title: Lecturer, salary: 1, manager: (Employee name: July, title: CEO, salary: 99999999, manager: )), (Employee name: Han, title: Lecturer, salary: 99999, manager: (Employee name: July, title: CEO, salary: 99999999, manager: )), \n"
     ]
    }
   ],
   "source": [
    "c.hire(han)\n",
    "print(c.get_info())"
   ]
  },
  {
   "cell_type": "code",
   "execution_count": 15,
   "metadata": {},
   "outputs": [
    {
     "name": "stdout",
     "output_type": "stream",
     "text": [
      "Firing Zewei!!!!!\n",
      "Company: JulyEDU, employees: (Employee name: July, title: CEO, salary: 99999999, manager: ), (Employee name: Han, title: Lecturer, salary: 99999, manager: (Employee name: July, title: CEO, salary: 99999999, manager: )), \n"
     ]
    }
   ],
   "source": [
    "print(\"Firing Zewei!!!!!\")\n",
    "c.fire(zewei)\n",
    "print(c.get_info())"
   ]
  },
  {
   "cell_type": "code",
   "execution_count": 16,
   "metadata": {},
   "outputs": [
    {
     "name": "stdout",
     "output_type": "stream",
     "text": [
      "Firing Zewei!!!!!\n",
      "Company: JulyEDU, employees: (Employee name: July, title: CEO, salary: 99999999, manager: ), (Employee name: Han, title: Lecturer, salary: 99999, manager: (Employee name: July, title: CEO, salary: 99999999, manager: )), \n"
     ]
    }
   ],
   "source": [
    "print(\"Firing Zewei!!!!!\")\n",
    "c.fire(zewei)\n",
    "print(c.get_info())"
   ]
  },
  {
   "cell_type": "code",
   "execution_count": 17,
   "metadata": {},
   "outputs": [
    {
     "name": "stdout",
     "output_type": "stream",
     "text": [
      "Company: JulyEDU, employees: (Employee name: July, title: CEO, salary: 99999999, manager: ), (Employee name: Han, title: Lecturer, salary: 99999, manager: (Employee name: July, title: CEO, salary: 99999999, manager: )), (Employee name: Zewei, title: Lecturer, salary: 1, manager: (Employee name: July, title: CEO, salary: 99999999, manager: )), \n"
     ]
    }
   ],
   "source": [
    "c.hire(zewei)\n",
    "print(c.get_info())"
   ]
  }
 ],
 "metadata": {
  "kernelspec": {
   "display_name": "Python 3",
   "language": "python",
   "name": "python3"
  },
  "language_info": {
   "codemirror_mode": {
    "name": "ipython",
    "version": 3
   },
   "file_extension": ".py",
   "mimetype": "text/x-python",
   "name": "python",
   "nbconvert_exporter": "python",
   "pygments_lexer": "ipython3",
   "version": "3.6.1"
  }
 },
 "nbformat": 4,
 "nbformat_minor": 2
}
