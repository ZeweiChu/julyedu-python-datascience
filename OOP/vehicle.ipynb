{
 "cells": [
  {
   "cell_type": "code",
   "execution_count": 2,
   "metadata": {
    "collapsed": true
   },
   "outputs": [],
   "source": [
    "from abc import ABC, abstractmethod"
   ]
  },
  {
   "cell_type": "code",
   "execution_count": 4,
   "metadata": {
    "collapsed": true
   },
   "outputs": [],
   "source": [
    "class Vehicle(ABC):\n",
    "    \n",
    "    @abstractmethod\n",
    "    def __init__(self, make, model, year, ID, price):\n",
    "        self.make = make\n",
    "        self.model = model\n",
    "        self.year = year\n",
    "        self.ID = ID\n",
    "        self.price = price\n",
    "        \n",
    "    @abstractmethod\n",
    "    def get_info(self):\n",
    "        return \"make: {}, mode: {}, year: {}, price: {}\".format(\\\n",
    "            self.make, self.model, self.year, self.price)\n",
    "        \n",
    "    @abstractmethod\n",
    "    def run(self):\n",
    "        pass"
   ]
  },
  {
   "cell_type": "code",
   "execution_count": 5,
   "metadata": {
    "scrolled": false
   },
   "outputs": [
    {
     "ename": "TypeError",
     "evalue": "Can't instantiate abstract class Vehicle with abstract methods __init__, get_info, run",
     "output_type": "error",
     "traceback": [
      "\u001b[0;31m---------------------------------------------------------------------------\u001b[0m",
      "\u001b[0;31mTypeError\u001b[0m                                 Traceback (most recent call last)",
      "\u001b[0;32m<ipython-input-5-01a8b8582a55>\u001b[0m in \u001b[0;36m<module>\u001b[0;34m()\u001b[0m\n\u001b[0;32m----> 1\u001b[0;31m \u001b[0mv\u001b[0m \u001b[0;34m=\u001b[0m \u001b[0mVehicle\u001b[0m\u001b[0;34m(\u001b[0m\u001b[0;34m\"Toyota\"\u001b[0m\u001b[0;34m,\u001b[0m \u001b[0;34m\"Camry\"\u001b[0m\u001b[0;34m,\u001b[0m \u001b[0;36m2015\u001b[0m\u001b[0;34m,\u001b[0m \u001b[0;36m1\u001b[0m\u001b[0;34m,\u001b[0m \u001b[0;36m200000\u001b[0m\u001b[0;34m)\u001b[0m\u001b[0;34m\u001b[0m\u001b[0m\n\u001b[0m",
      "\u001b[0;31mTypeError\u001b[0m: Can't instantiate abstract class Vehicle with abstract methods __init__, get_info, run"
     ]
    }
   ],
   "source": [
    "v = Vehicle(\"Toyota\", \"Camry\", 2015, 1, 200000)"
   ]
  },
  {
   "cell_type": "code",
   "execution_count": 8,
   "metadata": {
    "collapsed": true
   },
   "outputs": [],
   "source": [
    "class Car(Vehicle):\n",
    "    def __init__(self, make, model, year, ID, price, speed):\n",
    "        super().__init__(make, model, year, ID, price)\n",
    "        self.speed = speed\n",
    "        \n",
    "    def get_info(self):\n",
    "        return \"This is a car. {}. Speed: {}km/h\".format(\\\n",
    "            super().get_info(), self.speed)\n",
    "        \n",
    "    def run(self):\n",
    "        print(\"This car runs at speed {}km/h\".format(self.speed))"
   ]
  },
  {
   "cell_type": "code",
   "execution_count": 9,
   "metadata": {},
   "outputs": [
    {
     "name": "stdout",
     "output_type": "stream",
     "text": [
      "This is a car. make: Volkswagon, mode: Tiguan, year: 2010, price: 250000. Speed: 180km/h\n",
      "This car runs at speed 180km/h\n"
     ]
    }
   ],
   "source": [
    "volkswagon = Car(\"Volkswagon\", \"Tiguan\", 2010, 2, 250000, 180)\n",
    "print(volkswagon.get_info())\n",
    "volkswagon.run()"
   ]
  },
  {
   "cell_type": "code",
   "execution_count": 11,
   "metadata": {},
   "outputs": [],
   "source": [
    "class Bicycle(Vehicle):\n",
    "    def __init__(self, make, model, year, ID, price):\n",
    "        super().__init__(make, model, year, ID, price)\n",
    "        \n",
    "    def get_info(self):\n",
    "        return \"This is a bicycle. {}.\".format(super().get_info())\n",
    "    \n",
    "    def run(self):\n",
    "        print(\"You can ride this bicycle at whatever speed you want to.\")"
   ]
  },
  {
   "cell_type": "code",
   "execution_count": 12,
   "metadata": {},
   "outputs": [
    {
     "name": "stdout",
     "output_type": "stream",
     "text": [
      "This is a bicycle. make: Giant, mode: TCR, year: 2015, price: 3000.\n",
      "You can ride this bicycle at whatever speed you want to.\n"
     ]
    }
   ],
   "source": [
    "b = Bicycle(\"Giant\", \"TCR\", 2015, 3, 3000)\n",
    "print(b.get_info())\n",
    "b.run()"
   ]
  },
  {
   "cell_type": "code",
   "execution_count": null,
   "metadata": {
    "collapsed": true
   },
   "outputs": [],
   "source": []
  }
 ],
 "metadata": {
  "kernelspec": {
   "display_name": "Python 3",
   "language": "python",
   "name": "python3"
  },
  "language_info": {
   "codemirror_mode": {
    "name": "ipython",
    "version": 3
   },
   "file_extension": ".py",
   "mimetype": "text/x-python",
   "name": "python",
   "nbconvert_exporter": "python",
   "pygments_lexer": "ipython3",
   "version": "3.6.1"
  }
 },
 "nbformat": 4,
 "nbformat_minor": 2
}
