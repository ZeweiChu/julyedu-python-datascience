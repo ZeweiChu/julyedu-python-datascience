{
 "cells": [
  {
   "cell_type": "markdown",
   "metadata": {},
   "source": [
    "# numpy基础\n",
    "\n",
    "### 七月在线python数据分析基础课 \n",
    "\n",
    "褚则伟 zeweichu@gmail.com"
   ]
  },
  {
   "cell_type": "markdown",
   "metadata": {},
   "source": [
    "## Numpy简介\n",
    "\n",
    "- Numpy是Python语言的一个library [numpy](http://www.numpy.org/)\n",
    "- Numpy主要支持矩阵操作和运算\n",
    "- Numpy非常高效，core代码由C语言写成\n",
    "- 我们第三课要讲的pandas也是基于Numpy构建的一个library\n",
    "- 现在比较流行的机器学习框架（例如Tensorflow/PyTorch等等），语法都与Numpy比较接近"
   ]
  },
  {
   "cell_type": "markdown",
   "metadata": {},
   "source": [
    "## 目录\n",
    "- 数组简介和数组的构造(ndarray)\n",
    "- 数组取值和赋值\n",
    "- 数学运算\n",
    "- broadcasting\n",
    "- 逻辑运算\n",
    "- 数组高级操作\n",
    "- 文件输入输出\n",
    "- 随堂小项目：用Numpy写一个Softmax"
   ]
  },
  {
   "cell_type": "markdown",
   "metadata": {},
   "source": [
    "python里面调用一个包，用import对吧, 所以我们import `numpy` 包:"
   ]
  },
  {
   "cell_type": "code",
   "execution_count": 2,
   "metadata": {
    "collapsed": true
   },
   "outputs": [],
   "source": [
    "import numpy as np"
   ]
  },
  {
   "cell_type": "markdown",
   "metadata": {},
   "source": [
    "## Arrays/数组\n",
    "\n",
    "### 七月在线python数据分析班 2017升级版 julyedu.com"
   ]
  },
  {
   "cell_type": "markdown",
   "metadata": {},
   "source": [
    "看你数组的维度啦，我自己的话比较简单粗暴，一般直接把1维数组就看做向量/vector，2维数组看做2维矩阵，3维数组看做3维矩阵..."
   ]
  },
  {
   "cell_type": "markdown",
   "metadata": {},
   "source": [
    "可以调用np.array去从list初始化一个数组:"
   ]
  },
  {
   "cell_type": "code",
   "execution_count": 3,
   "metadata": {},
   "outputs": [
    {
     "name": "stdout",
     "output_type": "stream",
     "text": [
      "<class 'numpy.ndarray'> (3,) 1 2 3\n",
      "[5 2 3]\n"
     ]
    }
   ],
   "source": [
    "a = np.array([1, 2, 3])  # 1维数组\n",
    "print(type(a), a.shape, a[0], a[1], a[2])\n",
    "a[0] = 5                 # 重新赋值\n",
    "print(a)            "
   ]
  },
  {
   "cell_type": "code",
   "execution_count": 4,
   "metadata": {},
   "outputs": [
    {
     "name": "stdout",
     "output_type": "stream",
     "text": [
      "[[1 2 3]\n",
      " [4 5 6]]\n"
     ]
    }
   ],
   "source": [
    "b = np.array([[1,2,3],[4,5,6]])   # 2维数组\n",
    "print(b)"
   ]
  },
  {
   "cell_type": "code",
   "execution_count": 5,
   "metadata": {},
   "outputs": [
    {
     "name": "stdout",
     "output_type": "stream",
     "text": [
      "(2, 3)\n",
      "1 2 4\n"
     ]
    }
   ],
   "source": [
    "print(b.shape)  #可以看形状的（非常常用！！！）                  \n",
    "print(b[0, 0], b[0, 1], b[1, 0])"
   ]
  },
  {
   "cell_type": "markdown",
   "metadata": {},
   "source": [
    "我们可以用dtype来看numpy数组中元素的类型:"
   ]
  },
  {
   "cell_type": "code",
   "execution_count": 6,
   "metadata": {},
   "outputs": [
    {
     "data": {
      "text/plain": [
       "dtype('int64')"
      ]
     },
     "execution_count": 6,
     "metadata": {},
     "output_type": "execute_result"
    }
   ],
   "source": [
    "b.dtype"
   ]
  },
  {
   "cell_type": "markdown",
   "metadata": {},
   "source": [
    "ndim查看numpy ndarray的维度"
   ]
  },
  {
   "cell_type": "code",
   "execution_count": 7,
   "metadata": {},
   "outputs": [
    {
     "data": {
      "text/plain": [
       "2"
      ]
     },
     "execution_count": 7,
     "metadata": {},
     "output_type": "execute_result"
    }
   ],
   "source": [
    "b.ndim"
   ]
  },
  {
   "cell_type": "markdown",
   "metadata": {},
   "source": [
    "有一些内置的创建数组的函数:"
   ]
  },
  {
   "cell_type": "code",
   "execution_count": 8,
   "metadata": {},
   "outputs": [
    {
     "name": "stdout",
     "output_type": "stream",
     "text": [
      "[[ 0.  0.]\n",
      " [ 0.  0.]]\n"
     ]
    }
   ],
   "source": [
    "a = np.zeros((2,2))  # 创建2x2的全0数组\n",
    "print(a)"
   ]
  },
  {
   "cell_type": "code",
   "execution_count": 9,
   "metadata": {},
   "outputs": [
    {
     "name": "stdout",
     "output_type": "stream",
     "text": [
      "[[ 1.  1.]]\n"
     ]
    }
   ],
   "source": [
    "b = np.ones((1,2))   # 创建1x2的全1数组\n",
    "print(b)"
   ]
  },
  {
   "cell_type": "code",
   "execution_count": 10,
   "metadata": {},
   "outputs": [
    {
     "name": "stdout",
     "output_type": "stream",
     "text": [
      "[[7 7]\n",
      " [7 7]]\n"
     ]
    }
   ],
   "source": [
    "c = np.full((2,2), 7) # 定值数组\n",
    "print(c) "
   ]
  },
  {
   "cell_type": "code",
   "execution_count": 11,
   "metadata": {},
   "outputs": [
    {
     "name": "stdout",
     "output_type": "stream",
     "text": [
      "[[ 1.  0.]\n",
      " [ 0.  1.]]\n"
     ]
    }
   ],
   "source": [
    "d = np.eye(2)        # 对角矩阵（对角元素为1）\n",
    "print(d)"
   ]
  },
  {
   "cell_type": "code",
   "execution_count": 12,
   "metadata": {},
   "outputs": [
    {
     "name": "stdout",
     "output_type": "stream",
     "text": [
      "[[ 0.84387981  0.4407905 ]\n",
      " [ 0.01786365  0.73172481]]\n"
     ]
    }
   ],
   "source": [
    "e = np.random.random((2,2)) # 2x2的随机数组(矩阵)\n",
    "print(e)"
   ]
  },
  {
   "cell_type": "code",
   "execution_count": 14,
   "metadata": {},
   "outputs": [
    {
     "name": "stdout",
     "output_type": "stream",
     "text": [
      "[[[ -2.00000000e+000   3.11109886e+231]\n",
      "  [  2.96439388e-323   0.00000000e+000]\n",
      "  [  0.00000000e+000   1.16096346e-028]]\n",
      "\n",
      " [[  1.04857803e-142   1.16467185e-028]\n",
      "  [  6.03395497e-154   8.09280208e-153]\n",
      "  [  5.55993283e+141   8.34403734e-309]]]\n",
      "(2, 3, 2)\n"
     ]
    }
   ],
   "source": [
    "f = np.empty((2,3,2)) # empty是未初始化的数据\n",
    "print(f)\n",
    "print(f.shape)"
   ]
  },
  {
   "cell_type": "code",
   "execution_count": 15,
   "metadata": {},
   "outputs": [
    {
     "name": "stdout",
     "output_type": "stream",
     "text": [
      "[ 0  1  2  3  4  5  6  7  8  9 10 11 12 13 14]\n",
      "(15,)\n"
     ]
    }
   ],
   "source": [
    "g = np.arange(15) # 用arange可以生成连续的一串元素\n",
    "print(g)\n",
    "print(g.shape)"
   ]
  },
  {
   "cell_type": "markdown",
   "metadata": {},
   "source": [
    "数组可以有不同的数据类型"
   ]
  },
  {
   "cell_type": "markdown",
   "metadata": {},
   "source": [
    "生成数组时可以指定数据类型，如果不指定numpy会自动匹配合适的类型"
   ]
  },
  {
   "cell_type": "code",
   "execution_count": 16,
   "metadata": {},
   "outputs": [
    {
     "name": "stdout",
     "output_type": "stream",
     "text": [
      "float64\n"
     ]
    }
   ],
   "source": [
    "arr = np.array([1,2,3], dtype=np.float64)\n",
    "print(arr.dtype)"
   ]
  },
  {
   "cell_type": "code",
   "execution_count": 17,
   "metadata": {},
   "outputs": [
    {
     "name": "stdout",
     "output_type": "stream",
     "text": [
      "int32\n"
     ]
    }
   ],
   "source": [
    "arr = np.array([1,2,3], dtype=np.int32)\n",
    "print(arr.dtype)"
   ]
  },
  {
   "cell_type": "code",
   "execution_count": 24,
   "metadata": {
    "scrolled": true
   },
   "outputs": [
    {
     "name": "stdout",
     "output_type": "stream",
     "text": [
      "[ 1.+0.j  2.+0.j  3.+0.j]\n",
      "complex128\n"
     ]
    }
   ],
   "source": [
    "arr = np.array([1,2,3], dtype=np.complex)\n",
    "print(arr)\n",
    "print(arr.dtype)"
   ]
  },
  {
   "cell_type": "markdown",
   "metadata": {},
   "source": [
    "linspace可以等间距地生成一组数据"
   ]
  },
  {
   "cell_type": "code",
   "execution_count": 29,
   "metadata": {},
   "outputs": [
    {
     "data": {
      "text/plain": [
       "array([ 0.  ,  0.25,  0.5 ,  0.75,  1.  ,  1.25,  1.5 ,  1.75,  2.  ,\n",
       "        2.25,  2.5 ,  2.75,  3.  ])"
      ]
     },
     "execution_count": 29,
     "metadata": {},
     "output_type": "execute_result"
    }
   ],
   "source": [
    "np.linspace(0, 3, 13)"
   ]
  },
  {
   "cell_type": "code",
   "execution_count": 33,
   "metadata": {},
   "outputs": [],
   "source": [
    "x = np.linspace(0, 2*np.pi, 100)\n",
    "sinx = np.sin(x)\n",
    "# sinx"
   ]
  },
  {
   "cell_type": "markdown",
   "metadata": {},
   "source": [
    "使用astype复制数组并转换数据类型"
   ]
  },
  {
   "cell_type": "code",
   "execution_count": 18,
   "metadata": {},
   "outputs": [
    {
     "name": "stdout",
     "output_type": "stream",
     "text": [
      "int64\n",
      "float64\n"
     ]
    }
   ],
   "source": [
    "int_arr = np.array([1,2,3,4,5])\n",
    "float_arr = int_arr.astype(np.float)\n",
    "print(int_arr.dtype)\n",
    "print(float_arr.dtype)"
   ]
  },
  {
   "cell_type": "markdown",
   "metadata": {},
   "source": [
    "使用astype将float转换为int时小数部分被舍弃"
   ]
  },
  {
   "cell_type": "code",
   "execution_count": 19,
   "metadata": {},
   "outputs": [
    {
     "name": "stdout",
     "output_type": "stream",
     "text": [
      "[ 3 -1 -2  0 12 10]\n"
     ]
    }
   ],
   "source": [
    "float_arr = np.array([3.7, -1.2, -2.6, 0.5, 12.9, 10.1])\n",
    "int_arr = float_arr.astype(dtype = np.int)\n",
    "print(int_arr)"
   ]
  },
  {
   "cell_type": "markdown",
   "metadata": {},
   "source": [
    "使用astype把字符串转换为数组，如果失败抛出异常。"
   ]
  },
  {
   "cell_type": "code",
   "execution_count": 20,
   "metadata": {},
   "outputs": [
    {
     "name": "stdout",
     "output_type": "stream",
     "text": [
      "[  1.25  -9.6   42.  ]\n"
     ]
    }
   ],
   "source": [
    "str_arr = np.array(['1.25', '-9.6', '42'], dtype = np.string_)\n",
    "float_arr = str_arr.astype(dtype = np.float)\n",
    "print(float_arr)"
   ]
  },
  {
   "cell_type": "markdown",
   "metadata": {},
   "source": [
    "astype使用其它数组的数据类型作为参数"
   ]
  },
  {
   "cell_type": "code",
   "execution_count": 21,
   "metadata": {},
   "outputs": [
    {
     "name": "stdout",
     "output_type": "stream",
     "text": [
      "[ 0.  1.  2.  3.  4.  5.  6.  7.  8.  9.]\n",
      "0 1\n"
     ]
    }
   ],
   "source": [
    "int_arr = np.arange(10)\n",
    "float_arr = np.array([.23, 0.270, .357, 0.44, 0.5], dtype = np.float64)\n",
    "print(int_arr.astype(float_arr.dtype))\n",
    "print(int_arr[0], int_arr[1])"
   ]
  },
  {
   "cell_type": "markdown",
   "metadata": {},
   "source": [
    "reshape这个function可以改变ndarray的形状，只要总的element数量不变就OK了"
   ]
  },
  {
   "cell_type": "code",
   "execution_count": 34,
   "metadata": {},
   "outputs": [
    {
     "data": {
      "text/plain": [
       "(3, 4)"
      ]
     },
     "execution_count": 34,
     "metadata": {},
     "output_type": "execute_result"
    }
   ],
   "source": [
    "a = np.arange(12).reshape(3,4)\n",
    "a.shape"
   ]
  },
  {
   "cell_type": "code",
   "execution_count": 35,
   "metadata": {},
   "outputs": [
    {
     "data": {
      "text/plain": [
       "array([[ 0,  1,  2,  3],\n",
       "       [ 4,  5,  6,  7],\n",
       "       [ 8,  9, 10, 11]])"
      ]
     },
     "execution_count": 35,
     "metadata": {},
     "output_type": "execute_result"
    }
   ],
   "source": [
    "a"
   ]
  },
  {
   "cell_type": "markdown",
   "metadata": {},
   "source": [
    "如果一个ndarray的数据量太大，print的时候中间的一些数据会被省略"
   ]
  },
  {
   "cell_type": "code",
   "execution_count": 40,
   "metadata": {},
   "outputs": [
    {
     "data": {
      "text/plain": [
       "array([[[   0,    1,    2, ...,    7,    8,    9],\n",
       "        [  10,   11,   12, ...,   17,   18,   19],\n",
       "        [  20,   21,   22, ...,   27,   28,   29],\n",
       "        ..., \n",
       "        [  70,   71,   72, ...,   77,   78,   79],\n",
       "        [  80,   81,   82, ...,   87,   88,   89],\n",
       "        [  90,   91,   92, ...,   97,   98,   99]],\n",
       "\n",
       "       [[ 100,  101,  102, ...,  107,  108,  109],\n",
       "        [ 110,  111,  112, ...,  117,  118,  119],\n",
       "        [ 120,  121,  122, ...,  127,  128,  129],\n",
       "        ..., \n",
       "        [ 170,  171,  172, ...,  177,  178,  179],\n",
       "        [ 180,  181,  182, ...,  187,  188,  189],\n",
       "        [ 190,  191,  192, ...,  197,  198,  199]],\n",
       "\n",
       "       [[ 200,  201,  202, ...,  207,  208,  209],\n",
       "        [ 210,  211,  212, ...,  217,  218,  219],\n",
       "        [ 220,  221,  222, ...,  227,  228,  229],\n",
       "        ..., \n",
       "        [ 270,  271,  272, ...,  277,  278,  279],\n",
       "        [ 280,  281,  282, ...,  287,  288,  289],\n",
       "        [ 290,  291,  292, ...,  297,  298,  299]],\n",
       "\n",
       "       ..., \n",
       "       [[4700, 4701, 4702, ..., 4707, 4708, 4709],\n",
       "        [4710, 4711, 4712, ..., 4717, 4718, 4719],\n",
       "        [4720, 4721, 4722, ..., 4727, 4728, 4729],\n",
       "        ..., \n",
       "        [4770, 4771, 4772, ..., 4777, 4778, 4779],\n",
       "        [4780, 4781, 4782, ..., 4787, 4788, 4789],\n",
       "        [4790, 4791, 4792, ..., 4797, 4798, 4799]],\n",
       "\n",
       "       [[4800, 4801, 4802, ..., 4807, 4808, 4809],\n",
       "        [4810, 4811, 4812, ..., 4817, 4818, 4819],\n",
       "        [4820, 4821, 4822, ..., 4827, 4828, 4829],\n",
       "        ..., \n",
       "        [4870, 4871, 4872, ..., 4877, 4878, 4879],\n",
       "        [4880, 4881, 4882, ..., 4887, 4888, 4889],\n",
       "        [4890, 4891, 4892, ..., 4897, 4898, 4899]],\n",
       "\n",
       "       [[4900, 4901, 4902, ..., 4907, 4908, 4909],\n",
       "        [4910, 4911, 4912, ..., 4917, 4918, 4919],\n",
       "        [4920, 4921, 4922, ..., 4927, 4928, 4929],\n",
       "        ..., \n",
       "        [4970, 4971, 4972, ..., 4977, 4978, 4979],\n",
       "        [4980, 4981, 4982, ..., 4987, 4988, 4989],\n",
       "        [4990, 4991, 4992, ..., 4997, 4998, 4999]]])"
      ]
     },
     "execution_count": 40,
     "metadata": {},
     "output_type": "execute_result"
    }
   ],
   "source": [
    "a = np.arange(5000).reshape(50,10,10)\n",
    "a"
   ]
  },
  {
   "cell_type": "markdown",
   "metadata": {},
   "source": [
    "## Array indexing/数组取值和赋值\n",
    "\n",
    "### 七月在线python数据分析基础课"
   ]
  },
  {
   "cell_type": "markdown",
   "metadata": {},
   "source": [
    "Numpy提供了蛮多种取值的方式的."
   ]
  },
  {
   "cell_type": "markdown",
   "metadata": {},
   "source": [
    "可以像list一样切片（多维数组可以从各个维度同时切片）:"
   ]
  },
  {
   "cell_type": "code",
   "execution_count": 203,
   "metadata": {},
   "outputs": [
    {
     "name": "stdout",
     "output_type": "stream",
     "text": [
      "[[2 3]\n",
      " [6 7]]\n"
     ]
    }
   ],
   "source": [
    "import numpy as np\n",
    "\n",
    "# 创建一个如下格式的3x4数组\n",
    "# [[ 1  2  3  4]\n",
    "#  [ 5  6  7  8]\n",
    "#  [ 9 10 11 12]]\n",
    "a = np.array([[1,2,3,4], [5,6,7,8], [9,10,11,12]])\n",
    "\n",
    "# 在两个维度上分别按照[:2]和[1:3]进行切片，取需要的部分\n",
    "# [[2 3]\n",
    "#  [6 7]]\n",
    "b = a[:2, 1:3]\n",
    "print b"
   ]
  },
  {
   "cell_type": "markdown",
   "metadata": {},
   "source": [
    "虽然，怎么说呢，不建议你这样去赋值，但是你确实可以修改切片出来的对象，然后完成对原数组的赋值."
   ]
  },
  {
   "cell_type": "code",
   "execution_count": 13,
   "metadata": {},
   "outputs": [
    {
     "name": "stdout",
     "output_type": "stream",
     "text": [
      "0.0\n",
      "0.0\n"
     ]
    }
   ],
   "source": [
    "print(a[0, 1])  \n",
    "b[0, 0] = 77    # b[0, 0]改了，很遗憾a[0, 1]也被修改了\n",
    "print(a[0, 1])"
   ]
  },
  {
   "cell_type": "markdown",
   "metadata": {},
   "source": [
    "创建3x4的2维数组/矩阵"
   ]
  },
  {
   "cell_type": "code",
   "execution_count": 3,
   "metadata": {},
   "outputs": [
    {
     "name": "stdout",
     "output_type": "stream",
     "text": [
      "[[ 1  2  3  4]\n",
      " [ 5  6  7  8]\n",
      " [ 9 10 11 12]]\n"
     ]
    }
   ],
   "source": [
    "a = np.array([[1,2,3,4], [5,6,7,8], [9,10,11,12]])\n",
    "print(a)"
   ]
  },
  {
   "cell_type": "markdown",
   "metadata": {},
   "source": [
    "你就放心大胆地去取你想要的数咯:"
   ]
  },
  {
   "cell_type": "code",
   "execution_count": 15,
   "metadata": {},
   "outputs": [
    {
     "name": "stdout",
     "output_type": "stream",
     "text": [
      "[5 6 7 8] (4,)\n",
      "[[5 6 7 8]] (1, 4)\n",
      "[[5 6 7 8]] (1, 4)\n"
     ]
    }
   ],
   "source": [
    "row_r1 = a[1, :]    # 第2行，但是得到的是1维输出（列向量）\n",
    "row_r2 = a[1:2, :]  # 1x2的2维输出\n",
    "row_r3 = a[[1], :]  # 同上\n",
    "print(row_r1, row_r1.shape)\n",
    "print(row_r2, row_r2.shape)\n",
    "print(row_r3, row_r3.shape)"
   ]
  },
  {
   "cell_type": "markdown",
   "metadata": {},
   "source": [
    "试试在第2个维度上切片也一样的:"
   ]
  },
  {
   "cell_type": "code",
   "execution_count": 4,
   "metadata": {},
   "outputs": [
    {
     "name": "stdout",
     "output_type": "stream",
     "text": [
      "[ 2  6 10] (3,)\n",
      "\n",
      "[[ 2]\n",
      " [ 6]\n",
      " [10]] (3, 1)\n"
     ]
    }
   ],
   "source": [
    "col_r1 = a[:, 1]\n",
    "col_r2 = a[:, 1:2]\n",
    "print(col_r1, col_r1.shape)\n",
    "print()\n",
    "print(col_r2, col_r2.shape)"
   ]
  },
  {
   "cell_type": "markdown",
   "metadata": {},
   "source": [
    "下面这个高级了，更自由地取值和组合，但是要看清楚一点:"
   ]
  },
  {
   "cell_type": "code",
   "execution_count": 18,
   "metadata": {},
   "outputs": [
    {
     "name": "stdout",
     "output_type": "stream",
     "text": [
      "[1 4 5]\n",
      "[1 4 5]\n"
     ]
    }
   ],
   "source": [
    "a = np.array([[1,2], [3, 4], [5, 6]])\n",
    "\n",
    "# 其实意思就是取(0,0),(1,1),(2,0)的元素组起来\n",
    "print(a[[0, 1, 2], [0, 1, 0]])\n",
    "\n",
    "# 下面这个比较直白啦\n",
    "print(np.array([a[0, 0], a[1, 1], a[2, 0]]))"
   ]
  },
  {
   "cell_type": "code",
   "execution_count": 19,
   "metadata": {},
   "outputs": [
    {
     "name": "stdout",
     "output_type": "stream",
     "text": [
      "[2 2]\n",
      "[2 2]\n"
     ]
    }
   ],
   "source": [
    "# 再来试试\n",
    "print(a[[0, 0], [1, 1]])\n",
    "\n",
    "# 还是一样\n",
    "print(np.array([a[0, 1], a[0, 1]]))"
   ]
  },
  {
   "cell_type": "markdown",
   "metadata": {},
   "source": [
    "再来熟悉一下\n",
    "\n",
    "先创建一个2维数组"
   ]
  },
  {
   "cell_type": "code",
   "execution_count": 41,
   "metadata": {},
   "outputs": [
    {
     "name": "stdout",
     "output_type": "stream",
     "text": [
      "[[ 1  2  3]\n",
      " [ 4  5  6]\n",
      " [ 7  8  9]\n",
      " [10 11 12]]\n"
     ]
    }
   ],
   "source": [
    "a = np.array([[1,2,3], [4,5,6], [7,8,9], [10, 11, 12]])\n",
    "print(a)"
   ]
  },
  {
   "cell_type": "markdown",
   "metadata": {},
   "source": [
    "用下标生成一个向量"
   ]
  },
  {
   "cell_type": "code",
   "execution_count": 42,
   "metadata": {
    "collapsed": true
   },
   "outputs": [],
   "source": [
    "b = np.array([0, 2, 0, 1])"
   ]
  },
  {
   "cell_type": "markdown",
   "metadata": {},
   "source": [
    "你能看明白下面做的事情吗？"
   ]
  },
  {
   "cell_type": "code",
   "execution_count": 43,
   "metadata": {},
   "outputs": [
    {
     "name": "stdout",
     "output_type": "stream",
     "text": [
      "[ 1  6  7 11]\n"
     ]
    }
   ],
   "source": [
    "print(a[np.arange(4), b]) "
   ]
  },
  {
   "cell_type": "code",
   "execution_count": 45,
   "metadata": {},
   "outputs": [
    {
     "data": {
      "text/plain": [
       "array([ 1,  6,  7, 11])"
      ]
     },
     "execution_count": 45,
     "metadata": {},
     "output_type": "execute_result"
    }
   ],
   "source": [
    "a[[0,1,2,3], b]"
   ]
  },
  {
   "cell_type": "markdown",
   "metadata": {},
   "source": [
    "既然可以取出来，我们当然也可以对这些元素操作咯"
   ]
  },
  {
   "cell_type": "code",
   "execution_count": 11,
   "metadata": {},
   "outputs": [
    {
     "name": "stdout",
     "output_type": "stream",
     "text": [
      "[[11  2  3]\n",
      " [ 4  5 16]\n",
      " [17  8  9]\n",
      " [10 21 12]]\n"
     ]
    }
   ],
   "source": [
    "a[np.arange(4), b] += 10\n",
    "print(a)"
   ]
  },
  {
   "cell_type": "markdown",
   "metadata": {},
   "source": [
    "比较fashion的取法之一，用条件判定去取（但是很好用）:"
   ]
  },
  {
   "cell_type": "code",
   "execution_count": 46,
   "metadata": {},
   "outputs": [
    {
     "name": "stdout",
     "output_type": "stream",
     "text": [
      "[[False False]\n",
      " [ True  True]\n",
      " [ True  True]]\n"
     ]
    }
   ],
   "source": [
    "a = np.array([[1,2], [3, 4], [5, 6]])\n",
    "\n",
    "bool_idx = (a > 2)  # 就是判定一下是否大于2\n",
    "\n",
    "print(bool_idx)  # 返回一个布尔型的3x2数组"
   ]
  },
  {
   "cell_type": "markdown",
   "metadata": {},
   "source": [
    "用刚才的布尔型数组作为下标就可以去除符合条件的元素啦(Boolean indexing)"
   ]
  },
  {
   "cell_type": "code",
   "execution_count": 47,
   "metadata": {},
   "outputs": [
    {
     "name": "stdout",
     "output_type": "stream",
     "text": [
      "[3 4 5 6]\n"
     ]
    }
   ],
   "source": [
    "print(a[bool_idx])"
   ]
  },
  {
   "cell_type": "markdown",
   "metadata": {},
   "source": [
    "其实一句话也可以完成是不是？"
   ]
  },
  {
   "cell_type": "code",
   "execution_count": 48,
   "metadata": {},
   "outputs": [
    {
     "name": "stdout",
     "output_type": "stream",
     "text": [
      "[3 4 5 6]\n"
     ]
    }
   ],
   "source": [
    "print(a[a > 2])"
   ]
  },
  {
   "cell_type": "markdown",
   "metadata": {},
   "source": [
    "其实还有很多细节，其他的方式去取值，你可以看看官方文档。"
   ]
  },
  {
   "cell_type": "markdown",
   "metadata": {},
   "source": [
    "我们一起来来总结一下，看下面切片取值方式（对应颜色是取出来的结果）："
   ]
  },
  {
   "cell_type": "markdown",
   "metadata": {},
   "source": [
    "![](http://old.sebug.net/paper/books/scipydoc/_images/numpy_intro_02.png)\n",
    "![](http://old.sebug.net/paper/books/scipydoc/_images/numpy_intro_03.png)"
   ]
  },
  {
   "cell_type": "markdown",
   "metadata": {},
   "source": [
    "更多的内容可以读读[文档](http://docs.scipy.org/doc/numpy/reference/arrays.dtypes.html)."
   ]
  }
 ],
 "metadata": {
  "kernelspec": {
   "display_name": "Python 3",
   "language": "python",
   "name": "python3"
  },
  "language_info": {
   "codemirror_mode": {
    "name": "ipython",
    "version": 3
   },
   "file_extension": ".py",
   "mimetype": "text/x-python",
   "name": "python",
   "nbconvert_exporter": "python",
   "pygments_lexer": "ipython3",
   "version": "3.6.1"
  }
 },
 "nbformat": 4,
 "nbformat_minor": 2
}
