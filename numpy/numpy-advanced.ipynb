{
 "cells": [
  {
   "cell_type": "markdown",
   "metadata": {},
   "source": [
    "## 一些更高级的ndarray处理\n",
    "### 七月在线python数据分析班 2017升级版 julyedu.com"
   ]
  },
  {
   "cell_type": "markdown",
   "metadata": {},
   "source": [
    "## 使用reshape来改变tensor的形状"
   ]
  },
  {
   "cell_type": "markdown",
   "metadata": {},
   "source": [
    "numpy可以很容易地把一维数组转成二维数组，三维数组。"
   ]
  },
  {
   "cell_type": "code",
   "execution_count": 2,
   "metadata": {},
   "outputs": [
    {
     "name": "stdout",
     "output_type": "stream",
     "text": [
      "(4,2): [[0 1]\n",
      " [2 3]\n",
      " [4 5]\n",
      " [6 7]]\n",
      "\n",
      "(2,2,2): [[[0 1]\n",
      "  [2 3]]\n",
      "\n",
      " [[4 5]\n",
      "  [6 7]]]\n"
     ]
    }
   ],
   "source": [
    "import numpy as np\n",
    "\n",
    "arr = np.arange(8)\n",
    "print(\"(4,2):\", arr.reshape((4,2)))\n",
    "print()\n",
    "print(\"(2,2,2):\", arr.reshape((2,2,2)))"
   ]
  },
  {
   "cell_type": "markdown",
   "metadata": {},
   "source": [
    "如果我们在某一个维度上写上-1，numpy会帮我们自动推导出正确的维度"
   ]
  },
  {
   "cell_type": "code",
   "execution_count": 6,
   "metadata": {},
   "outputs": [
    {
     "name": "stdout",
     "output_type": "stream",
     "text": [
      "[[ 0  1  2]\n",
      " [ 3  4  5]\n",
      " [ 6  7  8]\n",
      " [ 9 10 11]\n",
      " [12 13 14]]\n",
      "(5, 3)\n"
     ]
    }
   ],
   "source": [
    "arr = np.arange(15)\n",
    "print(arr.reshape((5,-1)))\n",
    "print(arr.reshape((5,-1)).shape)"
   ]
  },
  {
   "cell_type": "markdown",
   "metadata": {},
   "source": [
    "还可以从其他的ndarray中获取shape信息然后reshape"
   ]
  },
  {
   "cell_type": "code",
   "execution_count": 8,
   "metadata": {},
   "outputs": [
    {
     "name": "stdout",
     "output_type": "stream",
     "text": [
      "(3, 5)\n",
      "[[ 0  1  2  3  4]\n",
      " [ 5  6  7  8  9]\n",
      " [10 11 12 13 14]]\n"
     ]
    }
   ],
   "source": [
    "other_arr = np.ones((3,5))\n",
    "print(other_arr.shape)\n",
    "print(arr.reshape(other_arr.shape))"
   ]
  },
  {
   "cell_type": "markdown",
   "metadata": {},
   "source": [
    "高维数组可以用ravel来拉平"
   ]
  },
  {
   "cell_type": "code",
   "execution_count": 9,
   "metadata": {},
   "outputs": [
    {
     "name": "stdout",
     "output_type": "stream",
     "text": [
      "[ 0  1  2  3  4  5  6  7  8  9 10 11 12 13 14]\n"
     ]
    }
   ],
   "source": [
    "print(arr.ravel())"
   ]
  },
  {
   "cell_type": "markdown",
   "metadata": {},
   "source": [
    "## 连接两个二维数组\n",
    "### 七月在线python数据分析班 2017升级版 julyedu.com"
   ]
  },
  {
   "cell_type": "code",
   "execution_count": 118,
   "metadata": {},
   "outputs": [
    {
     "name": "stdout",
     "output_type": "stream",
     "text": [
      "[[ 1  2  3]\n",
      " [ 4  5  6]\n",
      " [ 7  8  9]\n",
      " [10 11 12]]\n",
      "[[ 1  2  3  7  8  9]\n",
      " [ 4  5  6 10 11 12]]\n"
     ]
    }
   ],
   "source": [
    "arr1 = np.array([[1, 2, 3], [4, 5, 6]])\n",
    "arr2 = np.array([[7, 8, 9], [10, 11, 12]])\n",
    "print(np.concatenate([arr1, arr2], axis = 0))  # 按行连接\n",
    "print(np.concatenate([arr1, arr2], axis = 1))  # 按列连接"
   ]
  },
  {
   "cell_type": "markdown",
   "metadata": {},
   "source": [
    "所谓堆叠，参考叠盘子。。。连接的另一种表述\n",
    "垂直stack与水平stack"
   ]
  },
  {
   "cell_type": "code",
   "execution_count": 119,
   "metadata": {},
   "outputs": [
    {
     "name": "stdout",
     "output_type": "stream",
     "text": [
      "[[ 1  2  3]\n",
      " [ 4  5  6]\n",
      " [ 7  8  9]\n",
      " [10 11 12]]\n",
      "[[ 1  2  3  7  8  9]\n",
      " [ 4  5  6 10 11 12]]\n"
     ]
    }
   ],
   "source": [
    "print(np.vstack((arr1, arr2))) # 垂直堆叠\n",
    "print(np.hstack((arr1, arr2))) # 水平堆叠"
   ]
  },
  {
   "cell_type": "markdown",
   "metadata": {},
   "source": [
    "拆分数组"
   ]
  },
  {
   "cell_type": "code",
   "execution_count": 122,
   "metadata": {},
   "outputs": [
    {
     "name": "stdout",
     "output_type": "stream",
     "text": [
      "[[ 0.08218151  0.25291976  0.990262    0.74980044  0.92433676]\n",
      " [ 0.57215647  0.88759783  0.67939949  0.18618301  0.64810013]\n",
      " [ 0.21424794  0.5812622   0.33170632  0.40780156  0.00946797]\n",
      " [ 0.46223634  0.53574553  0.25289433  0.33226224  0.26110024]\n",
      " [ 0.81823359  0.98863697  0.13713923  0.3520669   0.38301044]]\n"
     ]
    }
   ],
   "source": [
    "arr = np.random.rand(5,5)\n",
    "print(arr)"
   ]
  },
  {
   "cell_type": "code",
   "execution_count": 128,
   "metadata": {},
   "outputs": [
    {
     "name": "stdout",
     "output_type": "stream",
     "text": [
      "[[ 0.08218151  0.25291976  0.990262    0.74980044  0.92433676]]\n",
      "\n",
      "[[ 0.57215647  0.88759783  0.67939949  0.18618301  0.64810013]\n",
      " [ 0.21424794  0.5812622   0.33170632  0.40780156  0.00946797]]\n",
      "\n",
      "[[ 0.46223634  0.53574553  0.25289433  0.33226224  0.26110024]\n",
      " [ 0.81823359  0.98863697  0.13713923  0.3520669   0.38301044]]\n"
     ]
    }
   ],
   "source": [
    "first, second, third = np.split(arr, [1,3], axis = 0)\n",
    "print(first)\n",
    "print()\n",
    "print(second)\n",
    "print()\n",
    "print(third)"
   ]
  },
  {
   "cell_type": "code",
   "execution_count": 130,
   "metadata": {},
   "outputs": [
    {
     "name": "stdout",
     "output_type": "stream",
     "text": [
      "[[ 0.08218151]\n",
      " [ 0.57215647]\n",
      " [ 0.21424794]\n",
      " [ 0.46223634]\n",
      " [ 0.81823359]]\n",
      "\n",
      "[[ 0.25291976  0.990262  ]\n",
      " [ 0.88759783  0.67939949]\n",
      " [ 0.5812622   0.33170632]\n",
      " [ 0.53574553  0.25289433]\n",
      " [ 0.98863697  0.13713923]]\n",
      "\n",
      "[[ 0.74980044  0.92433676]\n",
      " [ 0.18618301  0.64810013]\n",
      " [ 0.40780156  0.00946797]\n",
      " [ 0.33226224  0.26110024]\n",
      " [ 0.3520669   0.38301044]]\n"
     ]
    }
   ],
   "source": [
    "first, second, third = np.split(arr, [1, 3], axis = 1)\n",
    "print(first)\n",
    "print()\n",
    "print(second)\n",
    "print()\n",
    "print(third)"
   ]
  },
  {
   "cell_type": "markdown",
   "metadata": {},
   "source": [
    "堆叠辅助"
   ]
  },
  {
   "cell_type": "code",
   "execution_count": 26,
   "metadata": {
    "scrolled": true
   },
   "outputs": [],
   "source": [
    "arr = np.arange(6)\n",
    "arr1 = arr.reshape((3, 2))\n",
    "arr2 = np.random.randn(3, 2)"
   ]
  },
  {
   "cell_type": "markdown",
   "metadata": {},
   "source": [
    "r_用于按行堆叠"
   ]
  },
  {
   "cell_type": "code",
   "execution_count": 27,
   "metadata": {},
   "outputs": [
    {
     "name": "stdout",
     "output_type": "stream",
     "text": [
      "[[ 0.          1.        ]\n",
      " [ 2.          3.        ]\n",
      " [ 4.          5.        ]\n",
      " [ 1.48047625 -0.80973984]\n",
      " [ 0.40239049  0.30327542]\n",
      " [-0.09154549 -0.71305035]]\n",
      "\n"
     ]
    }
   ],
   "source": [
    "print(np.r_[arr1, arr2])\n",
    "print()"
   ]
  },
  {
   "cell_type": "markdown",
   "metadata": {},
   "source": [
    "c_用于按列堆叠"
   ]
  },
  {
   "cell_type": "code",
   "execution_count": 28,
   "metadata": {},
   "outputs": [
    {
     "name": "stdout",
     "output_type": "stream",
     "text": [
      "[[ 0.          1.          0.        ]\n",
      " [ 2.          3.          1.        ]\n",
      " [ 4.          5.          2.        ]\n",
      " [ 1.48047625 -0.80973984  3.        ]\n",
      " [ 0.40239049  0.30327542  4.        ]\n",
      " [-0.09154549 -0.71305035  5.        ]]\n",
      "\n"
     ]
    }
   ],
   "source": [
    "print(np.c_[np.r_[arr1, arr2], arr])\n",
    "print()"
   ]
  },
  {
   "cell_type": "markdown",
   "metadata": {},
   "source": [
    "切片直接转为数组"
   ]
  },
  {
   "cell_type": "code",
   "execution_count": 29,
   "metadata": {},
   "outputs": [
    {
     "name": "stdout",
     "output_type": "stream",
     "text": [
      "[[  1 -10]\n",
      " [  2  -9]\n",
      " [  3  -8]\n",
      " [  4  -7]\n",
      " [  5  -6]]\n",
      "\n"
     ]
    }
   ],
   "source": [
    "print(np.c_[1:6, -10:-5])\n",
    "print()"
   ]
  },
  {
   "cell_type": "markdown",
   "metadata": {},
   "source": [
    "使用repeat来重复"
   ]
  },
  {
   "cell_type": "code",
   "execution_count": 3,
   "metadata": {
    "collapsed": true
   },
   "outputs": [],
   "source": [
    "import numpy as np"
   ]
  },
  {
   "cell_type": "markdown",
   "metadata": {},
   "source": [
    "按元素重复"
   ]
  },
  {
   "cell_type": "code",
   "execution_count": 2,
   "metadata": {},
   "outputs": [
    {
     "name": "stdout",
     "output_type": "stream",
     "text": [
      "[0 0 0 1 1 1 2 2 2]\n",
      "[0 0 1 1 1 2 2 2 2]\n",
      "\n"
     ]
    }
   ],
   "source": [
    "arr = np.arange(3)\n",
    "print(arr.repeat(3))\n",
    "print(arr.repeat([2,3,4]))\n",
    "print()"
   ]
  },
  {
   "cell_type": "markdown",
   "metadata": {},
   "source": [
    "指定axis来重复"
   ]
  },
  {
   "cell_type": "code",
   "execution_count": 4,
   "metadata": {},
   "outputs": [
    {
     "name": "stdout",
     "output_type": "stream",
     "text": [
      "[[ 0.08174889  0.76173518]\n",
      " [ 0.84609074  0.06592856]]\n"
     ]
    }
   ],
   "source": [
    "arr = np.random.rand(2,2)\n",
    "print(arr)"
   ]
  },
  {
   "cell_type": "code",
   "execution_count": 6,
   "metadata": {},
   "outputs": [
    {
     "name": "stdout",
     "output_type": "stream",
     "text": [
      "[[ 0.08174889  0.76173518]\n",
      " [ 0.08174889  0.76173518]\n",
      " [ 0.84609074  0.06592856]\n",
      " [ 0.84609074  0.06592856]]\n",
      "[[ 0.08174889  0.08174889  0.76173518  0.76173518]\n",
      " [ 0.84609074  0.84609074  0.06592856  0.06592856]]\n"
     ]
    }
   ],
   "source": [
    "print(arr.repeat(2, axis=0))\n",
    "print(arr.repeat(2, axis=1))"
   ]
  },
  {
   "cell_type": "markdown",
   "metadata": {},
   "source": [
    "Tile: 参考贴瓷砖\n",
    "[numpy tile](https://docs.scipy.org/doc/numpy/reference/generated/numpy.tile.html)"
   ]
  },
  {
   "cell_type": "code",
   "execution_count": 10,
   "metadata": {},
   "outputs": [
    {
     "name": "stdout",
     "output_type": "stream",
     "text": [
      "[ 0  1  2  3  4  5  6  7  8  9 10 11 12 13 14  0  1  2  3  4  5  6  7  8  9\n",
      " 10 11 12 13 14]\n",
      "[[ 0  1  2  3  4  5  6  7  8  9 10 11 12 13 14  0  1  2  3  4  5  6  7  8\n",
      "   9 10 11 12 13 14  0  1  2  3  4  5  6  7  8  9 10 11 12 13 14]\n",
      " [ 0  1  2  3  4  5  6  7  8  9 10 11 12 13 14  0  1  2  3  4  5  6  7  8\n",
      "   9 10 11 12 13 14  0  1  2  3  4  5  6  7  8  9 10 11 12 13 14]]\n"
     ]
    }
   ],
   "source": [
    "print(np.tile(arr, 2))\n",
    "print(np.tile(arr, (2,3)))"
   ]
  },
  {
   "cell_type": "markdown",
   "metadata": {},
   "source": [
    "## numpy的文件输入输出\n",
    "### 七月在线python数据分析班 2017升级版 julyedu.com"
   ]
  },
  {
   "cell_type": "markdown",
   "metadata": {},
   "source": [
    "读取csv文件作为数组"
   ]
  },
  {
   "cell_type": "code",
   "execution_count": 12,
   "metadata": {},
   "outputs": [
    {
     "name": "stdout",
     "output_type": "stream",
     "text": [
      "[[ 0.580052  0.18673   1.040717  1.134411]\n",
      " [ 0.194163 -0.636917 -0.938659  0.124094]\n",
      " [-0.12641   0.268607 -0.695724  0.047428]\n",
      " [-1.484413  0.004176 -0.744203  0.005487]\n",
      " [ 2.302869  0.200131  1.670238 -1.88109 ]\n",
      " [-0.19323   1.047233  0.482803  0.960334]]\n"
     ]
    }
   ],
   "source": [
    "import numpy as np\n",
    "arr = np.loadtxt('array_ex.txt', delimiter=',')\n",
    "print(arr)"
   ]
  },
  {
   "cell_type": "markdown",
   "metadata": {},
   "source": [
    "数组文件读写"
   ]
  },
  {
   "cell_type": "code",
   "execution_count": 14,
   "metadata": {
    "collapsed": true
   },
   "outputs": [],
   "source": [
    "arr = np.arange(10)\n",
    "np.save('some_array', arr)"
   ]
  },
  {
   "cell_type": "code",
   "execution_count": 16,
   "metadata": {},
   "outputs": [
    {
     "name": "stdout",
     "output_type": "stream",
     "text": [
      "[0 1 2 3 4 5 6 7 8 9]\n"
     ]
    }
   ],
   "source": [
    "print(np.load('some_array.npy'))"
   ]
  },
  {
   "cell_type": "markdown",
   "metadata": {},
   "source": [
    "多个数组可以一起压缩存储"
   ]
  },
  {
   "cell_type": "code",
   "execution_count": 17,
   "metadata": {
    "collapsed": true
   },
   "outputs": [],
   "source": [
    "arr2 = np.arange(15).reshape(3,5)\n",
    "np.savez('array_archive.npz', a=arr, b=arr2)"
   ]
  },
  {
   "cell_type": "code",
   "execution_count": 18,
   "metadata": {},
   "outputs": [
    {
     "name": "stdout",
     "output_type": "stream",
     "text": [
      "[0 1 2 3 4 5 6 7 8 9]\n",
      "[[ 0  1  2  3  4]\n",
      " [ 5  6  7  8  9]\n",
      " [10 11 12 13 14]]\n"
     ]
    }
   ],
   "source": [
    "arch = np.load('array_archive.npz')\n",
    "print(arch['a'])\n",
    "print(arch['b'])"
   ]
  },
  {
   "cell_type": "markdown",
   "metadata": {},
   "source": [
    "\n",
    "## 随堂小项目\n",
    "\n",
    "### 七月在线python数据分析班 2017升级版 julyedu.com\n",
    "\n",
    "用numpy写一个softmax\n",
    "\n",
    "[什么是softmax?](http://cs231n.github.io/linear-classify/#softmax)"
   ]
  },
  {
   "cell_type": "code",
   "execution_count": 21,
   "metadata": {},
   "outputs": [
    {
     "name": "stdout",
     "output_type": "stream",
     "text": [
      "[[ 1005.6268522   1006.37640425  1009.16607654  1006.60560186\n",
      "   1004.10292284  1005.5612714   1009.10305278  1000.07293013  1007.4625404\n",
      "   1000.44251085]\n",
      " [ 1006.85008953  1005.50904204  1002.31367115  1005.7564141   1000.25971641\n",
      "   1006.00979083  1007.12821065  1007.23651786  1002.37159662\n",
      "   1005.04012624]\n",
      " [ 1002.63382438  1004.40074103  1002.75870734  1000.20725862\n",
      "   1003.31057929  1005.30945933  1004.85378369  1006.1602791   1007.31576326\n",
      "   1000.38095496]\n",
      " [ 1009.3515505   1000.79475559  1000.83100563  1002.2717183   1009.43042959\n",
      "   1001.8705134   1002.93765709  1001.44900852  1007.20534627  1001.5160502 ]\n",
      " [ 1007.56624747  1001.91174089  1007.52248698  1003.55344569\n",
      "   1002.82665149  1001.9406309   1008.47098145  1005.35970666\n",
      "   1006.55433931  1005.82345413]\n",
      " [ 1003.47411311  1004.46967672  1002.0741481   1001.69349575\n",
      "   1007.57488751  1005.97223924  1002.10361482  1005.4440204   1007.1158348\n",
      "   1006.01226291]\n",
      " [ 1008.23895842  1005.47496358  1001.13920659  1008.34770996\n",
      "   1006.99761462  1002.2593528   1006.13809307  1006.06388217\n",
      "   1009.55611818  1005.43520641]\n",
      " [ 1004.75570801  1005.0957932   1009.5571187   1007.50346236\n",
      "   1005.41450218  1005.87092221  1002.66678405  1008.45754553\n",
      "   1004.21802027  1008.68810935]\n",
      " [ 1003.77936053  1001.64064874  1004.427875    1002.83173202\n",
      "   1004.83871564  1007.1978229   1009.12880593  1003.06085453\n",
      "   1002.67907189  1007.10052005]\n",
      " [ 1003.00418778  1006.56648482  1009.84092066  1009.17472788  1006.8900496\n",
      "   1008.78848124  1006.54494156  1004.90271471  1005.80813443  1001.9352677 ]]\n"
     ]
    }
   ],
   "source": [
    "import numpy as np\n",
    "m = np.random.rand(10, 10) * 10 + 1000\n",
    "print(m)"
   ]
  },
  {
   "cell_type": "code",
   "execution_count": 22,
   "metadata": {},
   "outputs": [
    {
     "name": "stdout",
     "output_type": "stream",
     "text": [
      "[[ inf  inf  inf  inf  inf  inf  inf  inf  inf  inf]\n",
      " [ inf  inf  inf  inf  inf  inf  inf  inf  inf  inf]\n",
      " [ inf  inf  inf  inf  inf  inf  inf  inf  inf  inf]\n",
      " [ inf  inf  inf  inf  inf  inf  inf  inf  inf  inf]\n",
      " [ inf  inf  inf  inf  inf  inf  inf  inf  inf  inf]\n",
      " [ inf  inf  inf  inf  inf  inf  inf  inf  inf  inf]\n",
      " [ inf  inf  inf  inf  inf  inf  inf  inf  inf  inf]\n",
      " [ inf  inf  inf  inf  inf  inf  inf  inf  inf  inf]\n",
      " [ inf  inf  inf  inf  inf  inf  inf  inf  inf  inf]\n",
      " [ inf  inf  inf  inf  inf  inf  inf  inf  inf  inf]]\n"
     ]
    },
    {
     "name": "stderr",
     "output_type": "stream",
     "text": [
      "c:\\users\\jasonchuzewei\\anaconda3\\envs\\julyedu\\lib\\site-packages\\ipykernel_launcher.py:1: RuntimeWarning: overflow encountered in exp\n",
      "  \"\"\"Entry point for launching an IPython kernel.\n"
     ]
    }
   ],
   "source": [
    "print(np.exp(m))"
   ]
  },
  {
   "cell_type": "code",
   "execution_count": 23,
   "metadata": {},
   "outputs": [
    {
     "name": "stdout",
     "output_type": "stream",
     "text": [
      "[ 1009.16607654  1007.23651786  1007.31576326  1009.43042959  1008.47098145\n",
      "  1007.57488751  1009.55611818  1009.5571187   1009.12880593  1009.84092066] (10,)\n"
     ]
    }
   ],
   "source": [
    "m_row_max = m.max(axis=1)\n",
    "print(m_row_max, m_row_max.shape)"
   ]
  },
  {
   "cell_type": "code",
   "execution_count": 24,
   "metadata": {},
   "outputs": [
    {
     "name": "stdout",
     "output_type": "stream",
     "text": [
      "[[-3.53922434 -0.8601136   1.85031327 -2.82482773 -4.36805861 -2.01361612\n",
      "  -0.4530654  -9.48418857 -1.66626552 -9.39840982]\n",
      " [-2.31598701 -1.72747581 -5.00209211 -3.67401548 -8.21126504 -1.56509668\n",
      "  -2.42790753 -2.32060085 -6.7572093  -4.80079442]\n",
      " [-6.53225216 -2.83577683 -4.55705593 -9.22317097 -5.16040216 -2.26542819\n",
      "  -4.70233449 -3.39683961 -1.81304266 -9.4599657 ]\n",
      " [ 0.18547396 -6.44176227 -6.48475764 -7.15871129  0.95944814 -5.70437412\n",
      "  -6.6184611  -8.10811019 -1.92345965 -8.32487046]\n",
      " [-1.59982907 -5.32477697  0.20672372 -5.8769839  -5.64432996 -5.63425661\n",
      "  -1.08513673 -4.19741205 -2.57446661 -4.01746653]\n",
      " [-5.69196343 -2.76684114 -5.24161517 -7.73693384 -0.89609394 -1.60264828\n",
      "  -7.45250336 -4.1130983  -2.01297113 -3.82865775]\n",
      " [-0.92711812 -1.76155428 -6.17655667 -1.08271963 -1.47336683 -5.31553471\n",
      "  -3.41802511 -3.49323654  0.42731225 -4.40571425]\n",
      " [-4.41036853 -2.14072466  2.24135544 -1.92696723 -3.05647927 -1.70396531\n",
      "  -6.88933413 -1.09957318 -4.91078566 -1.15281131]\n",
      " [-5.38671601 -5.59586912 -2.88788826 -6.59869757 -3.63226581 -0.37706461\n",
      "  -0.42731225 -6.49626417 -6.44973404 -2.74040061]\n",
      " [-6.16188876 -0.67003304  2.5251574  -0.25570171 -1.58093185  1.21359372\n",
      "  -3.01117662 -4.654404   -3.3206715  -7.90565296]]\n"
     ]
    }
   ],
   "source": [
    "m = m - m_row_max\n",
    "print(m)"
   ]
  },
  {
   "cell_type": "code",
   "execution_count": 32,
   "metadata": {},
   "outputs": [
    {
     "name": "stdout",
     "output_type": "stream",
     "text": [
      "[[  2.90358404e-02   4.23114012e-01   6.36181220e+00   5.93188748e-02\n",
      "    1.26758254e-02   1.33505031e-01   6.35676559e-01   7.60447503e-05\n",
      "    1.88951384e-01   8.28557167e-05]\n",
      " [  9.86687488e-02   1.77732474e-01   6.72386521e-03   2.53743747e-02\n",
      "    2.71576947e-04   2.09067799e-01   8.82212396e-02   9.82145559e-02\n",
      "    1.16246875e-03   8.22321179e-03]\n",
      " [  1.45572363e-03   5.86729295e-02   1.04929054e-02   9.87251366e-05\n",
      "    5.73939107e-03   1.03785585e-01   9.07406902e-03   3.34789094e-02\n",
      "    1.63156949e-01   7.79092635e-05]\n",
      " [  1.20378885e+00   1.59359586e-03   1.52653070e-03   7.78056598e-04\n",
      "    2.61025557e+00   3.33136178e-03   1.33548455e-03   3.01087335e-04\n",
      "    1.46100629e-01   2.42412325e-04]\n",
      " [  2.01931032e-01   4.86943692e-03   1.22964279e+00   2.80322736e-03\n",
      "    3.53751789e-03   3.57333261e-03   3.37855588e-01   1.50344350e-02\n",
      "    7.61944530e-02   1.79985059e-02]\n",
      " [  3.37296389e-03   6.28602585e-02   5.29170295e-03   4.36407622e-04\n",
      "    4.08160852e-01   2.01362548e-01   5.79987874e-04   1.63570170e-02\n",
      "    1.33591168e-01   2.17387750e-02]\n",
      " [  3.95692408e-01   1.71777666e-01   2.07756931e-03   3.38673206e-01\n",
      "    2.29152666e-01   4.91465012e-03   3.27771023e-02   3.04023145e-02\n",
      "    1.53313131e+00   1.22073841e-02]\n",
      " [  1.21506996e-02   1.17569614e-01   9.40607201e+00   1.45589068e-01\n",
      "    4.70530649e-02   1.81960562e-01   1.01859186e-03   3.33013191e-01\n",
      "    7.36669834e-03   3.15747854e-01]\n",
      " [  4.57697944e-03   3.71317075e-03   5.56936991e-02   1.36214098e-03\n",
      "    2.64561718e-02   6.85871756e-01   6.52259850e-01   1.50906629e-03\n",
      "    1.58094258e-03   6.45444845e-02]\n",
      " [  2.10826750e-03   5.11691671e-01   1.24928615e+01   7.74372924e-01\n",
      "    2.05783250e-01   3.36555782e+00   4.92337152e-02   9.51958526e-03\n",
      "    3.61285634e-02   3.68653653e-04]] (10, 10)\n"
     ]
    }
   ],
   "source": [
    "m_exp = np.exp(m)\n",
    "print(m_exp, m_exp.shape)"
   ]
  },
  {
   "cell_type": "code",
   "execution_count": 35,
   "metadata": {},
   "outputs": [
    {
     "name": "stdout",
     "output_type": "stream",
     "text": [
      "[[  7.84424863]\n",
      " [  0.71366032]\n",
      " [  0.3860331 ]\n",
      " [  3.96925358]\n",
      " [  1.89344032]\n",
      " [  0.85375168]\n",
      " [  2.75080628]\n",
      " [ 10.56754136]\n",
      " [  1.49756826]\n",
      " [ 17.44762591]] (10, 1)\n"
     ]
    }
   ],
   "source": [
    "m_exp_row_sum = m_exp.sum(axis = 1).reshape(10,1)\n",
    "print(m_exp_row_sum, m_exp_row_sum.shape)"
   ]
  },
  {
   "cell_type": "code",
   "execution_count": 36,
   "metadata": {},
   "outputs": [
    {
     "name": "stdout",
     "output_type": "stream",
     "text": [
      "[[  3.70154514e-03   5.39393933e-02   8.11016135e-01   7.56208500e-03\n",
      "    1.61593877e-03   1.70194798e-02   8.10372783e-02   9.69433198e-06\n",
      "    2.40878882e-02   1.05626072e-05]\n",
      " [  1.38257301e-01   2.49043516e-01   9.42166051e-03   3.55552553e-02\n",
      "    3.80540912e-04   2.92951415e-01   1.23617970e-01   1.37620873e-01\n",
      "    1.62888243e-03   1.15225852e-02]\n",
      " [  3.77098141e-03   1.51989376e-01   2.71813621e-02   2.55742674e-04\n",
      "    1.48676140e-02   2.68851521e-01   2.35059353e-02   8.67254898e-02\n",
      "    4.22650157e-01   2.01820165e-04]\n",
      " [  3.03278394e-01   4.01485022e-04   3.84588857e-04   1.96020885e-04\n",
      "    6.57618748e-01   8.39291749e-04   3.36457352e-04   7.58549005e-05\n",
      "    3.68080865e-02   6.10725217e-05]\n",
      " [  1.06647688e-01   2.57174037e-03   6.49422524e-01   1.48049417e-03\n",
      "    1.86830176e-03   1.88721692e-03   1.78434770e-01   7.94027400e-03\n",
      "    4.02412752e-02   9.50571596e-03]\n",
      " [  3.95075520e-03   7.36282691e-02   6.19817573e-03   5.11164584e-04\n",
      "    4.78079120e-01   2.35856107e-01   6.79340243e-04   1.91589865e-02\n",
      "    1.56475438e-01   2.54626438e-02]\n",
      " [  1.43845974e-01   6.24462971e-02   7.55258311e-04   1.23117796e-01\n",
      "    8.33038182e-02   1.78662167e-03   1.19154528e-02   1.10521467e-02\n",
      "    5.57338888e-01   4.43774766e-03]\n",
      " [  1.14981330e-03   1.11255409e-02   8.90090864e-01   1.37770048e-02\n",
      "    4.45260286e-03   1.72188171e-02   9.63887274e-05   3.15128354e-02\n",
      "    6.97106175e-04   2.98790271e-02]\n",
      " [  3.05627434e-03   2.47946677e-03   3.71894227e-02   9.09568539e-04\n",
      "    1.76660874e-02   4.57990313e-01   4.35545989e-01   1.00767780e-03\n",
      "    1.05567314e-03   4.30995275e-02]\n",
      " [  1.20834061e-04   2.93272950e-02   7.16020708e-01   4.43827102e-02\n",
      "    1.17943410e-02   1.92894887e-01   2.82180025e-03   5.45609203e-04\n",
      "    2.07068650e-03   2.11291585e-05]]\n"
     ]
    }
   ],
   "source": [
    "m_softmax = m_exp / m_exp_row_sum\n",
    "print(m_softmax)"
   ]
  },
  {
   "cell_type": "code",
   "execution_count": 37,
   "metadata": {},
   "outputs": [
    {
     "name": "stdout",
     "output_type": "stream",
     "text": [
      "[ 1.  1.  1.  1.  1.  1.  1.  1.  1.  1.]\n"
     ]
    }
   ],
   "source": [
    "print(m_softmax.sum(axis=1))"
   ]
  },
  {
   "cell_type": "markdown",
   "metadata": {},
   "source": [
    "更多的numpy细节和用法可以查看一下官网[numpy指南](http://docs.scipy.org/doc/numpy/reference/)"
   ]
  }

 ],
 "metadata": {},
 "nbformat": 4,
 "nbformat_minor": 2
}
